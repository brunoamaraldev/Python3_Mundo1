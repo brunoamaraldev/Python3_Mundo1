{
  "nbformat": 4,
  "nbformat_minor": 0,
  "metadata": {
    "colab": {
      "name": "ex002.ipynb",
      "provenance": [],
      "authorship_tag": "ABX9TyMTrEkbzv1gIfVu2QGRdYSw",
      "include_colab_link": true
    },
    "kernelspec": {
      "name": "python3",
      "display_name": "Python 3"
    },
    "language_info": {
      "name": "python"
    }
  },
  "cells": [
    {
      "cell_type": "markdown",
      "metadata": {
        "id": "view-in-github",
        "colab_type": "text"
      },
      "source": [
        "<a href=\"https://colab.research.google.com/github/brunoamaraldev/Python3_Mundo1/blob/main/ex002.ipynb\" target=\"_parent\"><img src=\"https://colab.research.google.com/assets/colab-badge.svg\" alt=\"Open In Colab\"/></a>"
      ]
    },
    {
      "cell_type": "code",
      "metadata": {
        "colab": {
          "base_uri": "https://localhost:8080/"
        },
        "id": "I-Ph9fi95koq",
        "outputId": "7c9e2ca9-86e2-4c0b-f1e3-f306d5d4de76"
      },
      "source": [
        "name = input('Digite seu nome: ')\n",
        "print('É um prazer te conhecer', name, '!')"
      ],
      "execution_count": null,
      "outputs": [
        {
          "output_type": "stream",
          "text": [
            "Digite seu nome: Bruno\n",
            "É um prazer te conhecer Bruno !\n"
          ],
          "name": "stdout"
        }
      ]
    },
    {
      "cell_type": "code",
      "metadata": {
        "id": "JeEZEPBL6CZf"
      },
      "source": [
        ""
      ],
      "execution_count": null,
      "outputs": []
    }
  ]
}