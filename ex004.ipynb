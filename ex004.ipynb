{
  "nbformat": 4,
  "nbformat_minor": 0,
  "metadata": {
    "colab": {
      "name": "ex004.ipynb",
      "provenance": [],
      "collapsed_sections": [],
      "authorship_tag": "ABX9TyPRQ1Pe3tpdHVc8dn0bYxtK",
      "include_colab_link": true
    },
    "kernelspec": {
      "name": "python3",
      "display_name": "Python 3"
    },
    "language_info": {
      "name": "python"
    }
  },
  "cells": [
    {
      "cell_type": "markdown",
      "metadata": {
        "id": "view-in-github",
        "colab_type": "text"
      },
      "source": [
        "<a href=\"https://colab.research.google.com/github/brunoamaraldev/Python3_Mundo1/blob/main/ex004.ipynb\" target=\"_parent\"><img src=\"https://colab.research.google.com/assets/colab-badge.svg\" alt=\"Open In Colab\"/></a>"
      ]
    },
    {
      "cell_type": "code",
      "metadata": {
        "colab": {
          "base_uri": "https://localhost:8080/"
        },
        "id": "lGe-Hju3hD3a",
        "outputId": "78e9f0e2-03c9-4dd6-fbd1-25c118d46e3e"
      },
      "source": [
        "a = input('Digite algo')\n",
        "\n",
        "print('O tipo primitivo desse valor é ', type(a))\n",
        "print('Só tem espaços? ', a.isspace())\n",
        "print('É número? ', a.isnumeric())\n",
        "print('É alfabético? ', a.isalpha())\n",
        "print('É alfanumérico? ', a.isalnum())\n",
        "print('Está em maiúsculo? ', a.isupper())\n",
        "print('Está em minúsculo? ', a.islower())\n",
        "print('Está capitalizada? ', a.istitle())"
      ],
      "execution_count": 3,
      "outputs": [
        {
          "output_type": "stream",
          "text": [
            "Digite algoPython\n",
            "O tipo primitivo desse valor é  <class 'str'>\n",
            "Só tem espaços?  False\n",
            "É número?  False\n",
            "É alfabético?  True\n",
            "É alfanumérico?  True\n",
            "Está em maiúsculo?  False\n",
            "Está em minúsculo?  False\n",
            "Está capitalizada?  True\n"
          ],
          "name": "stdout"
        }
      ]
    },
    {
      "cell_type": "code",
      "metadata": {
        "id": "yTmt-ZXzjhrQ"
      },
      "source": [
        ""
      ],
      "execution_count": null,
      "outputs": []
    }
  ]
}